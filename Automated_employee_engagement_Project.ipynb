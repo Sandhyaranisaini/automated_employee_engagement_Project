{
  "nbformat": 4,
  "nbformat_minor": 0,
  "metadata": {
    "colab": {
      "provenance": []
    },
    "kernelspec": {
      "name": "python3",
      "display_name": "Python 3"
    },
    "language_info": {
      "name": "python"
    }
  },
  "cells": [
    {
      "cell_type": "code",
      "execution_count": null,
      "metadata": {
        "id": "BbaamvuPi0xl"
      },
      "outputs": [],
      "source": [
        "#SPRINT_9"
      ]
    },
    {
      "cell_type": "code",
      "source": [
        "#Task1:\n",
        "import random\n",
        "from abc import ABC, abstractmethod\n",
        "class Puzzle(ABC):\n",
        "    @abstractmethod\n",
        "    def present_puzzle(self):\n",
        "        pass\n",
        "    @abstractmethod\n",
        "    def check_answer(self, user_answer):\n",
        "        pass\n",
        "class Riddle(Puzzle):\n",
        "    def __init__(self, riddle_dict):\n",
        "        self.riddles = riddle_dict\n",
        "        self.current_riddle = random.choice(list(self.riddles.items()))\n",
        "\n",
        "    def present_puzzle(self):\n",
        "        print(self.current_riddle[0])\n",
        "\n",
        "    def check_answer(self, user_answer):\n",
        "        return user_answer.lower() == self.current_riddle[1].lower()\n",
        "\n",
        "def main():\n",
        "    riddles = {\n",
        "        \"What has an eye but cannot see?\": \"A needle\",\n",
        "        \"What run all day,but never gets tired?\": \"Time\",\n",
        "        \"What kind of cup doesn't hold water?\": \"Acupcake\",\n",
        "        \"What has 13 hearts but no other organs?\": \"A deck of cards \",\n",
        "        \"I have no life,but i can die.What am i?\": \"A battery\"\n",
        "    }\n",
        "    score = 0\n",
        "    total_questions = 0\n",
        "\n",
        "    while True:\n",
        "        game = Riddle(riddles)\n",
        "        game.present_puzzle()\n",
        "        user_answer = input(\"Your answer: \")\n",
        "\n",
        "        if user_answer.lower() == \"exit\":\n",
        "            break\n",
        "\n",
        "        total_questions += 1\n",
        "        if game.check_answer(user_answer):\n",
        "            print(\"Correct!\")\n",
        "            score += 1\n",
        "        else:\n",
        "            print(\"Incorrect. The answer is:\", game.current_riddle[1])\n",
        "\n",
        "    if total_questions > 0:\n",
        "        percentage = (score / total_questions) * 100\n",
        "        print(f\"Your final score is: {percentage:.2f}%\")\n",
        "    else:\n",
        "        print(\"No questions answered.\")\n",
        "\n",
        "if __name__ == \"__main__\":\n",
        "    main()"
      ],
      "metadata": {
        "colab": {
          "base_uri": "https://localhost:8080/"
        },
        "id": "cQLB7Pqoi7Kc",
        "outputId": "2b9d5ddf-ae24-4be0-8841-366c8879dd9c"
      },
      "execution_count": 1,
      "outputs": [
        {
          "output_type": "stream",
          "name": "stdout",
          "text": [
            "What has an eye but cannot see?\n",
            "Your answer: a needle\n",
            "Correct!\n",
            "What run all day,but never gets tired?\n",
            "Your answer: exit\n",
            "Your final score is: 100.00%\n"
          ]
        }
      ]
    },
    {
      "cell_type": "code",
      "source": [
        "#Task2:\n",
        "import random\n",
        "\n",
        "def ArithmeticPuzzle():\n",
        "  num1 = random.randint(1, 20)\n",
        "  num2 = random.randint(1, 20)\n",
        "  operators = ['+', '-', '*', '/']\n",
        "  operator = random.choice(operators)\n",
        "\n",
        "  while num2 == 0 and operator == '/':\n",
        "    num2 = random.randint(1, 20)\n",
        "\n",
        "  expression = f\"{num1} {operator} {num2}\"\n",
        "  solution = round(eval(expression),0)\n",
        "  return expression, solution\n",
        "\n",
        "def PlayGame():\n",
        "  score = 0\n",
        "  total_questions = 0\n",
        "\n",
        "  while True:\n",
        "    expression, solution = ArithmeticPuzzle()\n",
        "    print(expression + \" = ?\")\n",
        "    user_answer = input(\"Your answer: \")\n",
        "\n",
        "    try:\n",
        "      user_answer = int(user_answer)\n",
        "      if user_answer == solution:\n",
        "        print(\"Correct!\")\n",
        "        score += 1\n",
        "      else:\n",
        "        print(\"Incorrect. The answer is:\", solution)\n",
        "    except ValueError:\n",
        "      print(\"Invalid input. Please enter a number.\")\n",
        "\n",
        "    total_questions += 1\n",
        "\n",
        "    play_again = input(\"Do you want to play again? (yes/no): \").lower()\n",
        "    if play_again != \"yes\":\n",
        "      break\n",
        "\n",
        "  percentage = (score / total_questions) * 100\n",
        "  print(f\"Your final score is: {percentage:.2f}%\")\n",
        "\n",
        "if __name__ == \"__main__\":\n",
        "  PlayGame()\n"
      ],
      "metadata": {
        "colab": {
          "base_uri": "https://localhost:8080/"
        },
        "id": "j_rVMPDcjQEM",
        "outputId": "e1a71dee-d425-454a-e1bb-411c94eae641"
      },
      "execution_count": 2,
      "outputs": [
        {
          "output_type": "stream",
          "name": "stdout",
          "text": [
            "3 - 11 = ?\n",
            "Your answer: -7\n",
            "Incorrect. The answer is: -8\n",
            "Do you want to play again? (yes/no): yes\n",
            "20 / 12 = ?\n",
            "Your answer: 1.6\n",
            "Invalid input. Please enter a number.\n",
            "Do you want to play again? (yes/no): no\n",
            "Your final score is: 0.00%\n"
          ]
        }
      ]
    },
    {
      "cell_type": "code",
      "source": [
        "#task3\n",
        "import random\n",
        "\n",
        "\n",
        "Science_questions = [\n",
        "            {\"question\": \"What is the largest organ in the human body?\", \"answer\": \"Skin\"},\n",
        "            {\"question\":\"What is the largest land?\", \"answer\": \"Elephant\"},\n",
        "            {\"question\": \"how many bones in human body?\", \"answer\":\"206\"}\n",
        "        ]\n",
        "Mathematics_questions = [\n",
        "            {\"question\": \"What is the square root of 64?\", \"answer\": \"8\"},\n",
        "            {\"question\": \"What is the answer of 5!\", \"answer\": 120},\n",
        "            {\"qyuestion\": \"what are the basic math skils?\", \"answer\": \"+,-,*,/\"}\n",
        "        ]\n",
        "Geography_questions = [\n",
        "            {\"question\": \"What is the capital of France?\", \"answer\": \"Paris\"},\n",
        "            {\"question\": \"who is the father of geography?\", \"answer\":\"Eratosthenes\"},\n",
        "            {\"queston\":\"what is the largest continent?\", \"answer\": \"Asia\"}\n",
        "        ]\n",
        "Others_questions = [\n",
        "            {\"question\": \"Who painted the Mona Lisa?\", \"answer\": \"Leonardo da Vinci\"},\n",
        "            {\"question\": \" who is the author of Harry potter?\", \"answer\": \"Rowling\"},\n",
        "            {\"question\": \"What is the international emergency number?\", \"answer\": \"9\"}\n",
        "        ]\n",
        "def ask_category():\n",
        "    print(\"Choose your category from the following list:\")\n",
        "    print(\"1. Science-based\")\n",
        "    print(\"2. Mathematics-based\")\n",
        "    print(\"3. Geography-based\")\n",
        "    print(\"4. Others\")\n",
        "    while True:\n",
        "        try:\n",
        "            choice = int(input(\"Enter your choice (1-4): \"))\n",
        "            if 1 <= choice <= 4:\n",
        "                return choice\n",
        "            else:\n",
        "                print(\"Invalid choice. Please enter a number between 1 and 4.\")\n",
        "        except ValueError:\n",
        "            print(\"Invalid input. Please enter a number.\")\n",
        "\n",
        "def ask_question(question):\n",
        "    print(question)\n",
        "    return input(\"Your answer: \").lower()\n",
        "\n",
        "def check_answer(user_answer, correct_answer):\n",
        "    if user_answer == correct_answer.lower():\n",
        "        print(\"Correct!\")\n",
        "        return True\n",
        "    else:\n",
        "        print(f\"Incorrect. The correct answer is: {correct_answer}\")\n",
        "        return False\n",
        "\n",
        "def display_score(questions, score):\n",
        "    print(f\"You answered {score} out of {len(questions)} questions correctly.\")\n",
        "    percentage = (score / len(questions)) * 100\n",
        "    print(f\"Your final score is: {percentage:.2f}%\")\n",
        "\n",
        "def exec_questions(questions):\n",
        "    score = 0\n",
        "    for question in questions:\n",
        "        user_answer = ask_question(question[\"question\"])\n",
        "        if check_answer(user_answer, question[\"answer\"]):\n",
        "            score += 1\n",
        "    return score\n",
        "\n",
        "def play_game():\n",
        "    score = 0\n",
        "    total_questions = 0\n",
        "    while True:\n",
        "        category_choice = ask_category()\n",
        "        question_list = [Science_questions, Mathematics_questions, Geography_questions, Others_questions][category_choice - 1]\n",
        "        score += exec_questions(question_list)\n",
        "        total_questions += len(question_list)\n",
        "        display_score(question_list, score)\n",
        "        play_again = input(\"Do you want to play again? (yes/no): \").lower()\n",
        "        if play_again != \"yes\":\n",
        "            break\n",
        "\n",
        "if __name__ == \"__main__\":\n",
        "    print(\"Welcome to the Quiz Game!\")\n",
        "    play_game()\n",
        "    print(\"Thank you for playing!\")\n",
        "\n"
      ],
      "metadata": {
        "colab": {
          "base_uri": "https://localhost:8080/"
        },
        "id": "8vBN92aMju0a",
        "outputId": "b3a5d5fc-f453-4d9d-9297-39e3c056645b"
      },
      "execution_count": 5,
      "outputs": [
        {
          "output_type": "stream",
          "name": "stdout",
          "text": [
            "Welcome to the Quiz Game!\n",
            "Choose your category from the following list:\n",
            "1. Science-based\n",
            "2. Mathematics-based\n",
            "3. Geography-based\n",
            "4. Others\n",
            "Enter your choice (1-4): 1\n",
            "What is the largest organ in the human body?\n",
            "Your answer: skin\n",
            "Correct!\n",
            "What is the largest land?\n",
            "Your answer: Elephant\n",
            "Correct!\n",
            "how many bones in human body?\n",
            "Your answer: 206\n",
            "Correct!\n",
            "You answered 3 out of 3 questions correctly.\n",
            "Your final score is: 100.00%\n",
            "Do you want to play again? (yes/no): no\n",
            "Thank you for playing!\n"
          ]
        }
      ]
    },
    {
      "cell_type": "code",
      "source": [
        "#task4:\n",
        "import random\n",
        "\n",
        "def play_rock_paper_scissors():\n",
        "  options = [\"rock\", \"paper\", \"scissors\"]\n",
        "  while True:\n",
        "    computer_choice = random.choice(options)\n",
        "    user_choice = input(\"Rock, Paper, or Scissors? \").lower()\n",
        "    if user_choice not in options:\n",
        "      print(\"Invalid input. Please choose Rock, Paper, or Scissors.\")\n",
        "      continue\n",
        "    print(f\"Computer chose: {computer_choice}\")\n",
        "\n",
        "    if user_choice == computer_choice:\n",
        "      print(\"It's a tie!\")\n",
        "    elif user_choice == \"rock\":\n",
        "      if computer_choice == \"scissors\":\n",
        "        print(\"You win! Rock smashes scissors.\")\n",
        "      else:\n",
        "        print(\"You lose! Paper covers rock.\")\n",
        "    elif user_choice == \"paper\":\n",
        "      if computer_choice == \"rock\":\n",
        "        print(\"You win! Paper covers rock.\")\n",
        "      else:\n",
        "        print(\"You lose! Scissors cuts paper.\")\n",
        "    elif user_choice == \"scissors\":\n",
        "      if computer_choice == \"paper\":\n",
        "        print(\"You win! Scissors cuts paper.\")\n",
        "      else:\n",
        "        print(\"You lose! Rock smashes scissors.\")\n",
        "\n",
        "    play_again = input(\"Play again? (yes/no): \").lower()\n",
        "    if play_again != \"yes\":\n",
        "      break\n",
        "\n",
        "if __name__ == \"__main__\":\n",
        "  play_rock_paper_scissors()\n",
        "\n"
      ],
      "metadata": {
        "colab": {
          "base_uri": "https://localhost:8080/"
        },
        "id": "hD10xGdijupd",
        "outputId": "2fd59609-1c3f-48ee-8f0c-fff3bb43ccf2"
      },
      "execution_count": 8,
      "outputs": [
        {
          "name": "stdout",
          "output_type": "stream",
          "text": [
            "Rock, Paper, or Scissors? rock\n",
            "Computer chose: rock\n",
            "It's a tie!\n",
            "Play again? (yes/no): no\n"
          ]
        }
      ]
    },
    {
      "cell_type": "code",
      "source": [
        "#Task5:\n",
        "def rock_paper_scissors():\n",
        "  player1_name = input(\"Hello user1! Enter your name: \")\n",
        "  player2_name = input(\"Hello user2! Enter your name: \")\n",
        "  options = [\"rock\", \"paper\", \"scissors\"]\n",
        "  while True:\n",
        "    player1_choice = input(f\"Hello {player1_name}! Enter a choice (rock, paper, scissors): \").lower()\n",
        "    player2_choice = input(f\"Hello {player2_name}! Enter a choice (rock, paper, scissors): \").lower()\n",
        "    if player1_choice not in options or player2_choice not in options:\n",
        "      print(\"Invalid input. Please choose Rock, Paper, or Scissors.\")\n",
        "      continue\n",
        "    if player1_choice == player2_choice:\n",
        "      print(\"It's a tie!\")\n",
        "    elif player1_choice == \"rock\":\n",
        "      if player2_choice == \"scissors\":\n",
        "        print(f\"{player1_name} wins! Rock smashes scissors.\")\n",
        "      else:\n",
        "        print(f\"{player2_name} wins! Paper covers rock.\")\n",
        "    elif player1_choice == \"paper\":\n",
        "      if player2_choice == \"rock\":\n",
        "        print(f\"{player1_name} wins! Paper covers rock.\")\n",
        "      else:\n",
        "        print(f\"{player2_name} wins! Scissors cuts paper.\")\n",
        "    elif player1_choice == \"scissors\":\n",
        "      if player2_choice == \"paper\":\n",
        "        print(f\"{player1_name} wins! Scissors cuts paper.\")\n",
        "      else:\n",
        "        print(f\"{player2_name} wins! Rock smashes scissors.\")\n",
        "\n",
        "    play_again = input(\"Play again? (yes/no): \").lower()\n",
        "    if play_again != \"yes\":\n",
        "      break\n",
        "\n",
        "if __name__ == \"__main__\":\n",
        "  rock_paper_scissors()\n"
      ],
      "metadata": {
        "colab": {
          "base_uri": "https://localhost:8080/"
        },
        "id": "m9hyOXYNlv6H",
        "outputId": "41f96435-9bc5-4f7d-e8fd-21c9d9a03ab8"
      },
      "execution_count": 9,
      "outputs": [
        {
          "name": "stdout",
          "output_type": "stream",
          "text": [
            "Hello user1! Enter your name: Sandhya\n",
            "Hello user2! Enter your name: Chiru\n",
            "Hello Sandhya! Enter a choice (rock, paper, scissors): rock\n",
            "Hello Chiru! Enter a choice (rock, paper, scissors): paper\n",
            "Chiru wins! Paper covers rock.\n",
            "Play again? (yes/no): no\n"
          ]
        }
      ]
    }
  ]
}